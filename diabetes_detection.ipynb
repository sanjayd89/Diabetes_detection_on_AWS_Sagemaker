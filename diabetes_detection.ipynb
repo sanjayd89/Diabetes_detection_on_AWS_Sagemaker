{
  "cells": [
    {
      "cell_type": "markdown",
      "id": "02ec4d23",
      "metadata": {
        "id": "02ec4d23"
      },
      "source": [
        "# 1.0 Importing dependencies"
      ]
    },
    {
      "cell_type": "code",
      "execution_count": null,
      "id": "df47cec4",
      "metadata": {
        "id": "df47cec4",
        "outputId": "e7ea88ad-8e6d-499b-9bf2-4841ae9feb29"
      },
      "outputs": [
        {
          "name": "stdout",
          "output_type": "stream",
          "text": [
            "Success - the MySageMakerInstance is in the ap-south-1 region. You will use the 991648021394.dkr.ecr.ap-south-1.amazonaws.com/xgboost:latest container for your SageMaker endpoint.\n"
          ]
        }
      ],
      "source": [
        "# import libraries\n",
        "import boto3, re, sys, math, json, os, sagemaker, urllib.request\n",
        "from sagemaker import get_execution_role\n",
        "import numpy as np\n",
        "import pandas as pd\n",
        "import matplotlib.pyplot as plt\n",
        "import seaborn as sns\n",
        "%matplotlib inline\n",
        "from IPython.display import Image\n",
        "from IPython.display import display\n",
        "from time import gmtime, strftime\n",
        "from sagemaker.predictor import csv_serializer\n",
        "\n",
        "# Define IAM role\n",
        "role = get_execution_role()\n",
        "prefix = 'diabetes-detection'\n",
        "my_region = boto3.session.Session().region_name # set the region of the instance\n",
        "\n",
        "# this line automatically looks for the XGBoost image URI and builds an XGBoost container.\n",
        "xgboost_container = sagemaker.image_uris.retrieve(\"xgboost\", my_region, \"latest\")\n",
        "\n",
        "print(\"Success - the MySageMakerInstance is in the \" + my_region + \" region. You will use the \" + xgboost_container + \" container for your SageMaker endpoint.\")"
      ]
    },
    {
      "cell_type": "markdown",
      "id": "ad39db01",
      "metadata": {
        "id": "ad39db01"
      },
      "source": [
        "# 2.0 S3 Bucket creation to store data"
      ]
    },
    {
      "cell_type": "code",
      "execution_count": null,
      "id": "a13ed31b",
      "metadata": {
        "id": "a13ed31b",
        "outputId": "161cd5b3-1690-4f36-f649-88dada775562"
      },
      "outputs": [
        {
          "name": "stdout",
          "output_type": "stream",
          "text": [
            "S3 error:  An error occurred (BucketAlreadyOwnedByYou) when calling the CreateBucket operation: Your previous request to create the named bucket succeeded and you already own it.\n"
          ]
        }
      ],
      "source": [
        "bucket_name = 'diabetes-detection-bucket' \n",
        "s3 = boto3.resource('s3')\n",
        "try:\n",
        "    if  my_region == 'us-east-1':\n",
        "      s3.create_bucket(Bucket=bucket_name)\n",
        "    else: \n",
        "      s3.create_bucket(Bucket=bucket_name, CreateBucketConfiguration={ 'LocationConstraint': my_region })\n",
        "    print('S3 bucket created successfully')\n",
        "except Exception as e:\n",
        "    print('S3 error: ',e)"
      ]
    },
    {
      "cell_type": "markdown",
      "id": "970d4927",
      "metadata": {
        "id": "970d4927"
      },
      "source": [
        "# 3.0 Importing Data"
      ]
    },
    {
      "cell_type": "code",
      "execution_count": null,
      "id": "740ae238",
      "metadata": {
        "id": "740ae238",
        "outputId": "dc340c35-d279-4f31-d825-fc00b294b14f"
      },
      "outputs": [
        {
          "name": "stdout",
          "output_type": "stream",
          "text": [
            "Success: downloaded diabetes_data.csv.\n",
            "Success: Data loaded into dataframe.\n"
          ]
        },
        {
          "data": {
            "text/html": [
              "<div>\n",
              "<style scoped>\n",
              "    .dataframe tbody tr th:only-of-type {\n",
              "        vertical-align: middle;\n",
              "    }\n",
              "\n",
              "    .dataframe tbody tr th {\n",
              "        vertical-align: top;\n",
              "    }\n",
              "\n",
              "    .dataframe thead th {\n",
              "        text-align: right;\n",
              "    }\n",
              "</style>\n",
              "<table border=\"1\" class=\"dataframe\">\n",
              "  <thead>\n",
              "    <tr style=\"text-align: right;\">\n",
              "      <th></th>\n",
              "      <th>Age</th>\n",
              "      <th>Gender</th>\n",
              "      <th>Polyuria</th>\n",
              "      <th>Polydipsia</th>\n",
              "      <th>sudden weight loss</th>\n",
              "      <th>weakness</th>\n",
              "      <th>Polyphagia</th>\n",
              "      <th>Genital thrush</th>\n",
              "      <th>visual blurring</th>\n",
              "      <th>Itching</th>\n",
              "      <th>Irritability</th>\n",
              "      <th>delayed healing</th>\n",
              "      <th>partial paresis</th>\n",
              "      <th>muscle stiffness</th>\n",
              "      <th>Alopecia</th>\n",
              "      <th>Obesity</th>\n",
              "      <th>class</th>\n",
              "    </tr>\n",
              "  </thead>\n",
              "  <tbody>\n",
              "    <tr>\n",
              "      <th>0</th>\n",
              "      <td>40</td>\n",
              "      <td>Male</td>\n",
              "      <td>No</td>\n",
              "      <td>Yes</td>\n",
              "      <td>No</td>\n",
              "      <td>Yes</td>\n",
              "      <td>No</td>\n",
              "      <td>No</td>\n",
              "      <td>No</td>\n",
              "      <td>Yes</td>\n",
              "      <td>No</td>\n",
              "      <td>Yes</td>\n",
              "      <td>No</td>\n",
              "      <td>Yes</td>\n",
              "      <td>Yes</td>\n",
              "      <td>Yes</td>\n",
              "      <td>Positive</td>\n",
              "    </tr>\n",
              "    <tr>\n",
              "      <th>1</th>\n",
              "      <td>58</td>\n",
              "      <td>Male</td>\n",
              "      <td>No</td>\n",
              "      <td>No</td>\n",
              "      <td>No</td>\n",
              "      <td>Yes</td>\n",
              "      <td>No</td>\n",
              "      <td>No</td>\n",
              "      <td>Yes</td>\n",
              "      <td>No</td>\n",
              "      <td>No</td>\n",
              "      <td>No</td>\n",
              "      <td>Yes</td>\n",
              "      <td>No</td>\n",
              "      <td>Yes</td>\n",
              "      <td>No</td>\n",
              "      <td>Positive</td>\n",
              "    </tr>\n",
              "    <tr>\n",
              "      <th>2</th>\n",
              "      <td>41</td>\n",
              "      <td>Male</td>\n",
              "      <td>Yes</td>\n",
              "      <td>No</td>\n",
              "      <td>No</td>\n",
              "      <td>Yes</td>\n",
              "      <td>Yes</td>\n",
              "      <td>No</td>\n",
              "      <td>No</td>\n",
              "      <td>Yes</td>\n",
              "      <td>No</td>\n",
              "      <td>Yes</td>\n",
              "      <td>No</td>\n",
              "      <td>Yes</td>\n",
              "      <td>Yes</td>\n",
              "      <td>No</td>\n",
              "      <td>Positive</td>\n",
              "    </tr>\n",
              "    <tr>\n",
              "      <th>3</th>\n",
              "      <td>45</td>\n",
              "      <td>Male</td>\n",
              "      <td>No</td>\n",
              "      <td>No</td>\n",
              "      <td>Yes</td>\n",
              "      <td>Yes</td>\n",
              "      <td>Yes</td>\n",
              "      <td>Yes</td>\n",
              "      <td>No</td>\n",
              "      <td>Yes</td>\n",
              "      <td>No</td>\n",
              "      <td>Yes</td>\n",
              "      <td>No</td>\n",
              "      <td>No</td>\n",
              "      <td>No</td>\n",
              "      <td>No</td>\n",
              "      <td>Positive</td>\n",
              "    </tr>\n",
              "    <tr>\n",
              "      <th>4</th>\n",
              "      <td>60</td>\n",
              "      <td>Male</td>\n",
              "      <td>Yes</td>\n",
              "      <td>Yes</td>\n",
              "      <td>Yes</td>\n",
              "      <td>Yes</td>\n",
              "      <td>Yes</td>\n",
              "      <td>No</td>\n",
              "      <td>Yes</td>\n",
              "      <td>Yes</td>\n",
              "      <td>Yes</td>\n",
              "      <td>Yes</td>\n",
              "      <td>Yes</td>\n",
              "      <td>Yes</td>\n",
              "      <td>Yes</td>\n",
              "      <td>Yes</td>\n",
              "      <td>Positive</td>\n",
              "    </tr>\n",
              "  </tbody>\n",
              "</table>\n",
              "</div>"
            ],
            "text/plain": [
              "   Age Gender Polyuria Polydipsia sudden weight loss weakness Polyphagia  \\\n",
              "0   40   Male       No        Yes                 No      Yes         No   \n",
              "1   58   Male       No         No                 No      Yes         No   \n",
              "2   41   Male      Yes         No                 No      Yes        Yes   \n",
              "3   45   Male       No         No                Yes      Yes        Yes   \n",
              "4   60   Male      Yes        Yes                Yes      Yes        Yes   \n",
              "\n",
              "  Genital thrush visual blurring Itching Irritability delayed healing  \\\n",
              "0             No              No     Yes           No             Yes   \n",
              "1             No             Yes      No           No              No   \n",
              "2             No              No     Yes           No             Yes   \n",
              "3            Yes              No     Yes           No             Yes   \n",
              "4             No             Yes     Yes          Yes             Yes   \n",
              "\n",
              "  partial paresis muscle stiffness Alopecia Obesity     class  \n",
              "0              No              Yes      Yes     Yes  Positive  \n",
              "1             Yes               No      Yes      No  Positive  \n",
              "2              No              Yes      Yes      No  Positive  \n",
              "3              No               No       No      No  Positive  \n",
              "4             Yes              Yes      Yes     Yes  Positive  "
            ]
          },
          "execution_count": 35,
          "metadata": {},
          "output_type": "execute_result"
        }
      ],
      "source": [
        "try:\n",
        "  urllib.request.urlretrieve(\"https://raw.githubusercontent.com/sanjayd89/Diabetes_detection_on_AWS_Sagemaker/main/diabetes_data.csv\", \"diabetes_data.csv\")\n",
        "  print('Success: downloaded diabetes_data.csv.')\n",
        "except Exception as e:\n",
        "  print('Data load error: ',e)\n",
        "\n",
        "try:\n",
        "  model_data = pd.read_csv('diabetes_data.csv')#,index_col=0)\n",
        "  print('Success: Data loaded into dataframe.')\n",
        "except Exception as e:\n",
        "    print('Data load error: ',e)\n",
        "model_data.head()"
      ]
    },
    {
      "cell_type": "markdown",
      "id": "743c4ff5",
      "metadata": {
        "id": "743c4ff5"
      },
      "source": [
        "# 4.0 Pre-processing and EDA"
      ]
    },
    {
      "cell_type": "code",
      "execution_count": null,
      "id": "7d6d0abc",
      "metadata": {
        "id": "7d6d0abc",
        "outputId": "3830bd38-4dde-405a-e6a3-bb35e37de1e2"
      },
      "outputs": [
        {
          "name": "stdout",
          "output_type": "stream",
          "text": [
            "<class 'pandas.core.frame.DataFrame'>\n",
            "RangeIndex: 520 entries, 0 to 519\n",
            "Data columns (total 17 columns):\n",
            " #   Column              Non-Null Count  Dtype \n",
            "---  ------              --------------  ----- \n",
            " 0   Age                 520 non-null    int64 \n",
            " 1   Gender              520 non-null    object\n",
            " 2   Polyuria            520 non-null    object\n",
            " 3   Polydipsia          520 non-null    object\n",
            " 4   sudden weight loss  520 non-null    object\n",
            " 5   weakness            520 non-null    object\n",
            " 6   Polyphagia          520 non-null    object\n",
            " 7   Genital thrush      520 non-null    object\n",
            " 8   visual blurring     520 non-null    object\n",
            " 9   Itching             520 non-null    object\n",
            " 10  Irritability        520 non-null    object\n",
            " 11  delayed healing     520 non-null    object\n",
            " 12  partial paresis     520 non-null    object\n",
            " 13  muscle stiffness    520 non-null    object\n",
            " 14  Alopecia            520 non-null    object\n",
            " 15  Obesity             520 non-null    object\n",
            " 16  class               520 non-null    object\n",
            "dtypes: int64(1), object(16)\n",
            "memory usage: 69.2+ KB\n"
          ]
        }
      ],
      "source": [
        "model_data.info()"
      ]
    },
    {
      "cell_type": "code",
      "execution_count": null,
      "id": "22ef7b26",
      "metadata": {
        "id": "22ef7b26",
        "outputId": "c0976c1a-7345-473c-af9d-00e2b4e0515f"
      },
      "outputs": [
        {
          "data": {
            "text/plain": [
              "Age                   0\n",
              "Gender                0\n",
              "Polyuria              0\n",
              "Polydipsia            0\n",
              "sudden weight loss    0\n",
              "weakness              0\n",
              "Polyphagia            0\n",
              "Genital thrush        0\n",
              "visual blurring       0\n",
              "Itching               0\n",
              "Irritability          0\n",
              "delayed healing       0\n",
              "partial paresis       0\n",
              "muscle stiffness      0\n",
              "Alopecia              0\n",
              "Obesity               0\n",
              "class                 0\n",
              "dtype: int64"
            ]
          },
          "execution_count": 37,
          "metadata": {},
          "output_type": "execute_result"
        }
      ],
      "source": [
        "model_data.isna().sum()"
      ]
    },
    {
      "cell_type": "markdown",
      "id": "aa71eb65",
      "metadata": {
        "id": "aa71eb65"
      },
      "source": [
        "## Dependent Class distribution"
      ]
    },
    {
      "cell_type": "code",
      "execution_count": null,
      "id": "15a93dd9",
      "metadata": {
        "id": "15a93dd9",
        "outputId": "f84dc732-4c8e-44d4-d992-fb226a7388a7"
      },
      "outputs": [
        {
          "data": {
            "text/plain": [
              "<AxesSubplot:ylabel='class'>"
            ]
          },
          "execution_count": 38,
          "metadata": {},
          "output_type": "execute_result"
        },
        {
          "data": {
            "image/png": "[encoded data removed]",
            "text/plain": [
              "<Figure size 432x288 with 1 Axes>"
            ]
          },
          "metadata": {},
          "output_type": "display_data"
        }
      ],
      "source": [
        "model_data['class'].value_counts().plot(kind = 'pie', autopct='%.2f')"
      ]
    },
    {
      "cell_type": "markdown",
      "id": "ad2db3a3",
      "metadata": {
        "id": "ad2db3a3"
      },
      "source": [
        "## Class Distribution across Independent Variables"
      ]
    },
    {
      "cell_type": "code",
      "execution_count": null,
      "id": "d7e34782",
      "metadata": {
        "scrolled": true,
        "id": "d7e34782",
        "outputId": "283ec16e-7dea-4b8d-bc7d-34aefb75a54a"
      },
      "outputs": [
        {
          "data": {
            "image/png": "[encoded data removed]",
            "text/plain": [
              "<Figure size 1584x1440 with 15 Axes>"
            ]
          },
          "metadata": {
            "needs_background": "light"
          },
          "output_type": "display_data"
        }
      ],
      "source": [
        "plt.figure(figsize=(22, 20))\n",
        "plt.subplots_adjust(hspace=0.25)\n",
        "plt.suptitle(\"Class Distribution across Independent Variables\", fontsize=18, y=0.94)\n",
        "col_list = list(model_data)[:-2]\n",
        "\n",
        "# loop through the length of tickers and keep track of index\n",
        "for n, col in enumerate(col_list):\n",
        "    # add a new subplot iteratively\n",
        "    ax = plt.subplot(4, 4, n + 1)\n",
        "\n",
        "    # filter df and plot ticker on the new subplot axis\n",
        "    ax = sns.countplot(data=model_data, x=col, hue='class');\n",
        "\n",
        "    # chart formatting\n",
        "    ax.set_title(col)\n",
        "    ax.get_legend().remove()\n",
        "    ax.set_xlabel(\"\")\n",
        "    ax.set_ylabel(\"\")\n",
        "\n",
        "handles, labels = ax.get_legend_handles_labels()\n",
        "ax.legend(handles, labels, loc=\"upper left\", bbox_to_anchor=(-1.5,5))\n",
        "plt.show()"
      ]
    },
    {
      "cell_type": "markdown",
      "id": "f78fb382",
      "metadata": {
        "id": "f78fb382"
      },
      "source": [
        "## One Hot Encoding the Independent variables"
      ]
    },
    {
      "cell_type": "code",
      "execution_count": null,
      "id": "50e47274",
      "metadata": {
        "id": "50e47274"
      },
      "outputs": [],
      "source": [
        "ohe_col_list = model_data.columns.to_list()[1:]"
      ]
    },
    {
      "cell_type": "code",
      "execution_count": null,
      "id": "8a85e39c",
      "metadata": {
        "id": "8a85e39c",
        "outputId": "6bad0261-21ef-4c3c-c215-76dfd41a7ae3"
      },
      "outputs": [
        {
          "data": {
            "text/html": [
              "<div>\n",
              "<style scoped>\n",
              "    .dataframe tbody tr th:only-of-type {\n",
              "        vertical-align: middle;\n",
              "    }\n",
              "\n",
              "    .dataframe tbody tr th {\n",
              "        vertical-align: top;\n",
              "    }\n",
              "\n",
              "    .dataframe thead th {\n",
              "        text-align: right;\n",
              "    }\n",
              "</style>\n",
              "<table border=\"1\" class=\"dataframe\">\n",
              "  <thead>\n",
              "    <tr style=\"text-align: right;\">\n",
              "      <th></th>\n",
              "      <th>Age</th>\n",
              "      <th>Gender_Male</th>\n",
              "      <th>Polyuria_Yes</th>\n",
              "      <th>Polydipsia_Yes</th>\n",
              "      <th>sudden weight loss_Yes</th>\n",
              "      <th>weakness_Yes</th>\n",
              "      <th>Polyphagia_Yes</th>\n",
              "      <th>Genital thrush_Yes</th>\n",
              "      <th>visual blurring_Yes</th>\n",
              "      <th>Itching_Yes</th>\n",
              "      <th>Irritability_Yes</th>\n",
              "      <th>delayed healing_Yes</th>\n",
              "      <th>partial paresis_Yes</th>\n",
              "      <th>muscle stiffness_Yes</th>\n",
              "      <th>Alopecia_Yes</th>\n",
              "      <th>Obesity_Yes</th>\n",
              "      <th>class_Positive</th>\n",
              "    </tr>\n",
              "  </thead>\n",
              "  <tbody>\n",
              "    <tr>\n",
              "      <th>0</th>\n",
              "      <td>40</td>\n",
              "      <td>1</td>\n",
              "      <td>0</td>\n",
              "      <td>1</td>\n",
              "      <td>0</td>\n",
              "      <td>1</td>\n",
              "      <td>0</td>\n",
              "      <td>0</td>\n",
              "      <td>0</td>\n",
              "      <td>1</td>\n",
              "      <td>0</td>\n",
              "      <td>1</td>\n",
              "      <td>0</td>\n",
              "      <td>1</td>\n",
              "      <td>1</td>\n",
              "      <td>1</td>\n",
              "      <td>1</td>\n",
              "    </tr>\n",
              "    <tr>\n",
              "      <th>1</th>\n",
              "      <td>58</td>\n",
              "      <td>1</td>\n",
              "      <td>0</td>\n",
              "      <td>0</td>\n",
              "      <td>0</td>\n",
              "      <td>1</td>\n",
              "      <td>0</td>\n",
              "      <td>0</td>\n",
              "      <td>1</td>\n",
              "      <td>0</td>\n",
              "      <td>0</td>\n",
              "      <td>0</td>\n",
              "      <td>1</td>\n",
              "      <td>0</td>\n",
              "      <td>1</td>\n",
              "      <td>0</td>\n",
              "      <td>1</td>\n",
              "    </tr>\n",
              "    <tr>\n",
              "      <th>2</th>\n",
              "      <td>41</td>\n",
              "      <td>1</td>\n",
              "      <td>1</td>\n",
              "      <td>0</td>\n",
              "      <td>0</td>\n",
              "      <td>1</td>\n",
              "      <td>1</td>\n",
              "      <td>0</td>\n",
              "      <td>0</td>\n",
              "      <td>1</td>\n",
              "      <td>0</td>\n",
              "      <td>1</td>\n",
              "      <td>0</td>\n",
              "      <td>1</td>\n",
              "      <td>1</td>\n",
              "      <td>0</td>\n",
              "      <td>1</td>\n",
              "    </tr>\n",
              "    <tr>\n",
              "      <th>3</th>\n",
              "      <td>45</td>\n",
              "      <td>1</td>\n",
              "      <td>0</td>\n",
              "      <td>0</td>\n",
              "      <td>1</td>\n",
              "      <td>1</td>\n",
              "      <td>1</td>\n",
              "      <td>1</td>\n",
              "      <td>0</td>\n",
              "      <td>1</td>\n",
              "      <td>0</td>\n",
              "      <td>1</td>\n",
              "      <td>0</td>\n",
              "      <td>0</td>\n",
              "      <td>0</td>\n",
              "      <td>0</td>\n",
              "      <td>1</td>\n",
              "    </tr>\n",
              "    <tr>\n",
              "      <th>4</th>\n",
              "      <td>60</td>\n",
              "      <td>1</td>\n",
              "      <td>1</td>\n",
              "      <td>1</td>\n",
              "      <td>1</td>\n",
              "      <td>1</td>\n",
              "      <td>1</td>\n",
              "      <td>0</td>\n",
              "      <td>1</td>\n",
              "      <td>1</td>\n",
              "      <td>1</td>\n",
              "      <td>1</td>\n",
              "      <td>1</td>\n",
              "      <td>1</td>\n",
              "      <td>1</td>\n",
              "      <td>1</td>\n",
              "      <td>1</td>\n",
              "    </tr>\n",
              "  </tbody>\n",
              "</table>\n",
              "</div>"
            ],
            "text/plain": [
              "   Age  Gender_Male  Polyuria_Yes  Polydipsia_Yes  sudden weight loss_Yes  \\\n",
              "0   40            1             0               1                       0   \n",
              "1   58            1             0               0                       0   \n",
              "2   41            1             1               0                       0   \n",
              "3   45            1             0               0                       1   \n",
              "4   60            1             1               1                       1   \n",
              "\n",
              "   weakness_Yes  Polyphagia_Yes  Genital thrush_Yes  visual blurring_Yes  \\\n",
              "0             1               0                   0                    0   \n",
              "1             1               0                   0                    1   \n",
              "2             1               1                   0                    0   \n",
              "3             1               1                   1                    0   \n",
              "4             1               1                   0                    1   \n",
              "\n",
              "   Itching_Yes  Irritability_Yes  delayed healing_Yes  partial paresis_Yes  \\\n",
              "0            1                 0                    1                    0   \n",
              "1            0                 0                    0                    1   \n",
              "2            1                 0                    1                    0   \n",
              "3            1                 0                    1                    0   \n",
              "4            1                 1                    1                    1   \n",
              "\n",
              "   muscle stiffness_Yes  Alopecia_Yes  Obesity_Yes  class_Positive  \n",
              "0                     1             1            1               1  \n",
              "1                     0             1            0               1  \n",
              "2                     1             1            0               1  \n",
              "3                     0             0            0               1  \n",
              "4                     1             1            1               1  "
            ]
          },
          "execution_count": 45,
          "metadata": {},
          "output_type": "execute_result"
        }
      ],
      "source": [
        "model_data_ohe = pd.get_dummies(model_data, columns = ohe_col_list, drop_first=True)\n",
        "model_data_ohe.head()"
      ]
    },
    {
      "cell_type": "markdown",
      "id": "e50021da",
      "metadata": {
        "id": "e50021da"
      },
      "source": [
        "# 5.0 Modeling"
      ]
    },
    {
      "cell_type": "markdown",
      "id": "bd57b552",
      "metadata": {
        "id": "bd57b552"
      },
      "source": [
        "## Train Test Split"
      ]
    },
    {
      "cell_type": "code",
      "execution_count": null,
      "id": "470ced91",
      "metadata": {
        "id": "470ced91",
        "outputId": "e10ee940-159b-4f64-e565-778de69f21b0"
      },
      "outputs": [
        {
          "name": "stdout",
          "output_type": "stream",
          "text": [
            "(364, 17) (156, 17)\n"
          ]
        }
      ],
      "source": [
        "train_data, test_data = np.split(model_data_ohe.sample(frac=1, random_state=1729), [int(0.7 * len(model_data_ohe))])\n",
        "print(train_data.shape, test_data.shape)"
      ]
    },
    {
      "cell_type": "code",
      "execution_count": null,
      "id": "f9f1d19a",
      "metadata": {
        "id": "f9f1d19a"
      },
      "outputs": [],
      "source": [
        "#export to csv keeping target class as first column\n",
        "pd.concat([train_data['class_Positive'], train_data.drop(['class_Positive'], axis=1)], \n",
        "          axis=1).to_csv('train.csv', index=False, header=False)\n",
        "\n",
        "#upload train file to s3 bucket\n",
        "boto3.Session().resource('s3').Bucket(bucket_name).Object(os.path.join(prefix, 'train/train.csv')).upload_file('train.csv')\n",
        "\n",
        "s3_input_train = sagemaker.inputs.TrainingInput(s3_data='s3://{}/{}/train'.format(bucket_name, prefix), content_type='csv')"
      ]
    },
    {
      "cell_type": "markdown",
      "id": "535a48c7",
      "metadata": {
        "id": "535a48c7"
      },
      "source": [
        "## Create instance of XGB within Sagemaker along with its hyperparameters"
      ]
    },
    {
      "cell_type": "code",
      "execution_count": null,
      "id": "d37cd40d",
      "metadata": {
        "id": "d37cd40d"
      },
      "outputs": [],
      "source": [
        "sess = sagemaker.Session()\n",
        "xgb = sagemaker.estimator.Estimator(xgboost_container,role, instance_count=1, instance_type='ml.m4.xlarge',output_path='s3://{}/{}/output'.format(bucket_name, prefix),sagemaker_session=sess)\n",
        "xgb.set_hyperparameters(max_depth=5,eta=0.2,gamma=4,min_child_weight=6,subsample=0.8,silent=0,objective='binary:logistic',num_round=100)"
      ]
    },
    {
      "cell_type": "code",
      "execution_count": null,
      "id": "06d5cc6c",
      "metadata": {
        "id": "06d5cc6c",
        "outputId": "03e5bd24-17aa-4413-ef45-a03e89049c01"
      },
      "outputs": [
        {
          "name": "stdout",
          "output_type": "stream",
          "text": [
            "2022-11-21 10:23:03 Starting - Starting the training job...\n",
            "2022-11-21 10:23:28 Starting - Preparing the instances for trainingProfilerReport-1669026183: InProgress\n",
            "............\n",
            "2022-11-21 10:25:27 Downloading - Downloading input data...\n",
            "2022-11-21 10:25:57 Training - Training image download completed. Training in progress..\u001b[34mArguments: train\u001b[0m\n",
            "\u001b[34m[2022-11-21:10:26:05:INFO] Running standalone xgboost training.\u001b[0m\n",
            "\u001b[34m[2022-11-21:10:26:05:INFO] Path /opt/ml/input/data/validation does not exist!\u001b[0m\n",
            "\u001b[34m[2022-11-21:10:26:05:INFO] File size need to be processed in the node: 0.01mb. Available memory size in the node: 8621.41mb\u001b[0m\n",
            "\u001b[34m[2022-11-21:10:26:05:INFO] Determined delimiter of CSV input is ','\u001b[0m\n",
            "\u001b[34m[10:26:05] S3DistributionType set as FullyReplicated\u001b[0m\n",
            "\u001b[34m[10:26:05] 364x16 matrix with 5824 entries loaded from /opt/ml/input/data/train?format=csv&label_column=0&delimiter=,\u001b[0m\n",
            "\u001b[34m[10:26:05] src/tree/updater_prune.cc:74: tree pruning end, 1 roots, 6 extra nodes, 0 pruned nodes, max_depth=3\u001b[0m\n",
            "\u001b[34m[0]#011train-error:0.112637\u001b[0m\n",
            "\u001b[34m[10:26:05] src/tree/updater_prune.cc:74: tree pruning end, 1 roots, 6 extra nodes, 2 pruned nodes, max_depth=3\u001b[0m\n",
            "\u001b[34m[1]#011train-error:0.120879\u001b[0m\n",
            "\u001b[34m[10:26:05] src/tree/updater_prune.cc:74: tree pruning end, 1 roots, 8 extra nodes, 0 pruned nodes, max_depth=3\u001b[0m\n",
            "\u001b[34m[2]#011train-error:0.090659\u001b[0m\n",
            "\u001b[34m[10:26:05] src/tree/updater_prune.cc:74: tree pruning end, 1 roots, 4 extra nodes, 4 pruned nodes, max_depth=2\u001b[0m\n",
            "\u001b[34m[3]#011train-error:0.115385\u001b[0m\n",
            "\u001b[34m[10:26:05] src/tree/updater_prune.cc:74: tree pruning end, 1 roots, 4 extra nodes, 6 pruned nodes, max_depth=2\u001b[0m\n",
            "\u001b[34m[4]#011train-error:0.101648\u001b[0m\n",
            "\u001b[34m[10:26:05] src/tree/updater_prune.cc:74: tree pruning end, 1 roots, 4 extra nodes, 4 pruned nodes, max_depth=2\u001b[0m\n",
            "\u001b[34m[5]#011train-error:0.112637\u001b[0m\n",
            "\u001b[34m[10:26:05] src/tree/updater_prune.cc:74: tree pruning end, 1 roots, 4 extra nodes, 6 pruned nodes, max_depth=2\u001b[0m\n",
            "\u001b[34m[6]#011train-error:0.107143\u001b[0m\n",
            "\u001b[34m[10:26:05] src/tree/updater_prune.cc:74: tree pruning end, 1 roots, 4 extra nodes, 4 pruned nodes, max_depth=2\u001b[0m\n",
            "\u001b[34m[7]#011train-error:0.107143\u001b[0m\n",
            "\u001b[34m[10:26:05] src/tree/updater_prune.cc:74: tree pruning end, 1 roots, 6 extra nodes, 2 pruned nodes, max_depth=3\u001b[0m\n",
            "\u001b[34m[8]#011train-error:0.107143\u001b[0m\n",
            "\u001b[34m[10:26:05] src/tree/updater_prune.cc:74: tree pruning end, 1 roots, 4 extra nodes, 6 pruned nodes, max_depth=2\u001b[0m\n",
            "\u001b[34m[9]#011train-error:0.098901\u001b[0m\n",
            "\u001b[34m[10:26:05] src/tree/updater_prune.cc:74: tree pruning end, 1 roots, 4 extra nodes, 4 pruned nodes, max_depth=2\u001b[0m\n",
            "\u001b[34m[10]#011train-error:0.096154\u001b[0m\n",
            "\u001b[34m[10:26:05] src/tree/updater_prune.cc:74: tree pruning end, 1 roots, 4 extra nodes, 6 pruned nodes, max_depth=2\u001b[0m\n",
            "\u001b[34m[11]#011train-error:0.098901\u001b[0m\n",
            "\u001b[34m[10:26:05] src/tree/updater_prune.cc:74: tree pruning end, 1 roots, 6 extra nodes, 2 pruned nodes, max_depth=3\u001b[0m\n",
            "\u001b[34m[12]#011train-error:0.074176\u001b[0m\n",
            "\u001b[34m[10:26:05] src/tree/updater_prune.cc:74: tree pruning end, 1 roots, 4 extra nodes, 2 pruned nodes, max_depth=2\u001b[0m\n",
            "\u001b[34m[13]#011train-error:0.074176\u001b[0m\n",
            "\u001b[34m[10:26:05] src/tree/updater_prune.cc:74: tree pruning end, 1 roots, 4 extra nodes, 2 pruned nodes, max_depth=2\u001b[0m\n",
            "\u001b[34m[14]#011train-error:0.07967\u001b[0m\n",
            "\u001b[34m[10:26:05] src/tree/updater_prune.cc:74: tree pruning end, 1 roots, 2 extra nodes, 4 pruned nodes, max_depth=1\u001b[0m\n",
            "\u001b[34m[15]#011train-error:0.071429\u001b[0m\n",
            "\u001b[34m[10:26:05] src/tree/updater_prune.cc:74: tree pruning end, 1 roots, 4 extra nodes, 2 pruned nodes, max_depth=2\u001b[0m\n",
            "\u001b[34m[16]#011train-error:0.07967\u001b[0m\n",
            "\u001b[34m[10:26:05] src/tree/updater_prune.cc:74: tree pruning end, 1 roots, 4 extra nodes, 4 pruned nodes, max_depth=2\u001b[0m\n",
            "\u001b[34m[17]#011train-error:0.068681\u001b[0m\n",
            "\u001b[34m[10:26:05] src/tree/updater_prune.cc:74: tree pruning end, 1 roots, 4 extra nodes, 2 pruned nodes, max_depth=2\u001b[0m\n",
            "\u001b[34m[18]#011train-error:0.068681\u001b[0m\n",
            "\u001b[34m[10:26:05] src/tree/updater_prune.cc:74: tree pruning end, 1 roots, 2 extra nodes, 4 pruned nodes, max_depth=1\u001b[0m\n",
            "\u001b[34m[19]#011train-error:0.071429\u001b[0m\n",
            "\u001b[34m[10:26:05] src/tree/updater_prune.cc:74: tree pruning end, 1 roots, 2 extra nodes, 4 pruned nodes, max_depth=1\u001b[0m\n",
            "\u001b[34m[20]#011train-error:0.076923\u001b[0m\n",
            "\u001b[34m[10:26:05] src/tree/updater_prune.cc:74: tree pruning end, 1 roots, 2 extra nodes, 4 pruned nodes, max_depth=1\u001b[0m\n",
            "\u001b[34m[21]#011train-error:0.068681\u001b[0m\n",
            "\u001b[34m[10:26:05] src/tree/updater_prune.cc:74: tree pruning end, 1 roots, 0 extra nodes, 4 pruned nodes, max_depth=0\u001b[0m\n",
            "\u001b[34m[22]#011train-error:0.068681\u001b[0m\n",
            "\u001b[34m[10:26:05] src/tree/updater_prune.cc:74: tree pruning end, 1 roots, 0 extra nodes, 4 pruned nodes, max_depth=0\u001b[0m\n",
            "\u001b[34m[23]#011train-error:0.068681\u001b[0m\n",
            "\u001b[34m[10:26:05] src/tree/updater_prune.cc:74: tree pruning end, 1 roots, 0 extra nodes, 4 pruned nodes, max_depth=0\u001b[0m\n",
            "\u001b[34m[24]#011train-error:0.076923\u001b[0m\n",
            "\u001b[34m[10:26:05] src/tree/updater_prune.cc:74: tree pruning end, 1 roots, 0 extra nodes, 6 pruned nodes, max_depth=0\u001b[0m\n",
            "\u001b[34m[25]#011train-error:0.076923\u001b[0m\n",
            "\u001b[34m[10:26:05] src/tree/updater_prune.cc:74: tree pruning end, 1 roots, 0 extra nodes, 6 pruned nodes, max_depth=0\u001b[0m\n",
            "\u001b[34m[26]#011train-error:0.076923\u001b[0m\n",
            "\u001b[34m[10:26:05] src/tree/updater_prune.cc:74: tree pruning end, 1 roots, 0 extra nodes, 4 pruned nodes, max_depth=0\u001b[0m\n",
            "\u001b[34m[27]#011train-error:0.076923\u001b[0m\n",
            "\u001b[34m[10:26:05] src/tree/updater_prune.cc:74: tree pruning end, 1 roots, 6 extra nodes, 0 pruned nodes, max_depth=3\u001b[0m\n",
            "\u001b[34m[28]#011train-error:0.065934\u001b[0m\n",
            "\u001b[34m[10:26:05] src/tree/updater_prune.cc:74: tree pruning end, 1 roots, 0 extra nodes, 4 pruned nodes, max_depth=0\u001b[0m\n",
            "\u001b[34m[29]#011train-error:0.065934\u001b[0m\n",
            "\u001b[34m[10:26:05] src/tree/updater_prune.cc:74: tree pruning end, 1 roots, 0 extra nodes, 4 pruned nodes, max_depth=0\u001b[0m\n",
            "\u001b[34m[30]#011train-error:0.065934\u001b[0m\n",
            "\u001b[34m[10:26:05] src/tree/updater_prune.cc:74: tree pruning end, 1 roots, 0 extra nodes, 4 pruned nodes, max_depth=0\u001b[0m\n",
            "\u001b[34m[31]#011train-error:0.065934\u001b[0m\n",
            "\u001b[34m[10:26:05] src/tree/updater_prune.cc:74: tree pruning end, 1 roots, 0 extra nodes, 4 pruned nodes, max_depth=0\u001b[0m\n",
            "\u001b[34m[32]#011train-error:0.065934\u001b[0m\n",
            "\u001b[34m[10:26:05] src/tree/updater_prune.cc:74: tree pruning end, 1 roots, 0 extra nodes, 4 pruned nodes, max_depth=0\u001b[0m\n",
            "\u001b[34m[33]#011train-error:0.065934\u001b[0m\n",
            "\u001b[34m[10:26:05] src/tree/updater_prune.cc:74: tree pruning end, 1 roots, 0 extra nodes, 4 pruned nodes, max_depth=0\u001b[0m\n",
            "\u001b[34m[34]#011train-error:0.065934\u001b[0m\n",
            "\u001b[34m[10:26:05] src/tree/updater_prune.cc:74: tree pruning end, 1 roots, 0 extra nodes, 6 pruned nodes, max_depth=0\u001b[0m\n",
            "\u001b[34m[35]#011train-error:0.068681\u001b[0m\n",
            "\u001b[34m[10:26:05] src/tree/updater_prune.cc:74: tree pruning end, 1 roots, 0 extra nodes, 4 pruned nodes, max_depth=0\u001b[0m\n",
            "\u001b[34m[36]#011train-error:0.065934\u001b[0m\n",
            "\u001b[34m[10:26:05] src/tree/updater_prune.cc:74: tree pruning end, 1 roots, 0 extra nodes, 6 pruned nodes, max_depth=0\u001b[0m\n",
            "\u001b[34m[37]#011train-error:0.065934\u001b[0m\n",
            "\u001b[34m[10:26:05] src/tree/updater_prune.cc:74: tree pruning end, 1 roots, 0 extra nodes, 6 pruned nodes, max_depth=0\u001b[0m\n",
            "\u001b[34m[38]#011train-error:0.065934\u001b[0m\n",
            "\u001b[34m[10:26:05] src/tree/updater_prune.cc:74: tree pruning end, 1 roots, 2 extra nodes, 2 pruned nodes, max_depth=1\u001b[0m\n",
            "\u001b[34m[39]#011train-error:0.063187\u001b[0m\n",
            "\u001b[34m[10:26:05] src/tree/updater_prune.cc:74: tree pruning end, 1 roots, 2 extra nodes, 2 pruned nodes, max_depth=1\u001b[0m\n",
            "\u001b[34m[40]#011train-error:0.071429\u001b[0m\n",
            "\u001b[34m[10:26:05] src/tree/updater_prune.cc:74: tree pruning end, 1 roots, 0 extra nodes, 4 pruned nodes, max_depth=0\u001b[0m\n",
            "\u001b[34m[41]#011train-error:0.071429\u001b[0m\n",
            "\u001b[34m[10:26:05] src/tree/updater_prune.cc:74: tree pruning end, 1 roots, 2 extra nodes, 2 pruned nodes, max_depth=1\u001b[0m\n",
            "\u001b[34m[42]#011train-error:0.071429\u001b[0m\n",
            "\u001b[34m[10:26:05] src/tree/updater_prune.cc:74: tree pruning end, 1 roots, 0 extra nodes, 4 pruned nodes, max_depth=0\u001b[0m\n",
            "\u001b[34m[43]#011train-error:0.071429\u001b[0m\n",
            "\u001b[34m[10:26:05] src/tree/updater_prune.cc:74: tree pruning end, 1 roots, 0 extra nodes, 6 pruned nodes, max_depth=0\u001b[0m\n",
            "\u001b[34m[44]#011train-error:0.071429\u001b[0m\n",
            "\u001b[34m[10:26:05] src/tree/updater_prune.cc:74: tree pruning end, 1 roots, 0 extra nodes, 6 pruned nodes, max_depth=0\u001b[0m\n",
            "\u001b[34m[45]#011train-error:0.071429\u001b[0m\n",
            "\u001b[34m[10:26:05] src/tree/updater_prune.cc:74: tree pruning end, 1 roots, 0 extra nodes, 4 pruned nodes, max_depth=0\u001b[0m\n",
            "\u001b[34m[46]#011train-error:0.071429\u001b[0m\n",
            "\u001b[34m[10:26:05] src/tree/updater_prune.cc:74: tree pruning end, 1 roots, 0 extra nodes, 4 pruned nodes, max_depth=0\u001b[0m\n",
            "\u001b[34m[47]#011train-error:0.071429\u001b[0m\n",
            "\u001b[34m[10:26:05] src/tree/updater_prune.cc:74: tree pruning end, 1 roots, 0 extra nodes, 6 pruned nodes, max_depth=0\u001b[0m\n",
            "\u001b[34m[48]#011train-error:0.071429\u001b[0m\n",
            "\u001b[34m[10:26:05] src/tree/updater_prune.cc:74: tree pruning end, 1 roots, 2 extra nodes, 2 pruned nodes, max_depth=1\u001b[0m\n",
            "\u001b[34m[49]#011train-error:0.071429\u001b[0m\n",
            "\u001b[34m[10:26:05] src/tree/updater_prune.cc:74: tree pruning end, 1 roots, 0 extra nodes, 4 pruned nodes, max_depth=0\u001b[0m\n",
            "\u001b[34m[50]#011train-error:0.074176\u001b[0m\n",
            "\u001b[34m[10:26:05] src/tree/updater_prune.cc:74: tree pruning end, 1 roots, 0 extra nodes, 4 pruned nodes, max_depth=0\u001b[0m\n",
            "\u001b[34m[51]#011train-error:0.074176\u001b[0m\n",
            "\u001b[34m[10:26:05] src/tree/updater_prune.cc:74: tree pruning end, 1 roots, 0 extra nodes, 4 pruned nodes, max_depth=0\u001b[0m\n",
            "\u001b[34m[52]#011train-error:0.074176\u001b[0m\n",
            "\u001b[34m[10:26:05] src/tree/updater_prune.cc:74: tree pruning end, 1 roots, 0 extra nodes, 4 pruned nodes, max_depth=0\u001b[0m\n",
            "\u001b[34m[53]#011train-error:0.074176\u001b[0m\n",
            "\u001b[34m[10:26:05] src/tree/updater_prune.cc:74: tree pruning end, 1 roots, 0 extra nodes, 4 pruned nodes, max_depth=0\u001b[0m\n",
            "\u001b[34m[54]#011train-error:0.074176\u001b[0m\n",
            "\u001b[34m[10:26:05] src/tree/updater_prune.cc:74: tree pruning end, 1 roots, 0 extra nodes, 4 pruned nodes, max_depth=0\u001b[0m\n",
            "\u001b[34m[55]#011train-error:0.074176\u001b[0m\n",
            "\u001b[34m[10:26:05] src/tree/updater_prune.cc:74: tree pruning end, 1 roots, 0 extra nodes, 4 pruned nodes, max_depth=0\u001b[0m\n",
            "\u001b[34m[56]#011train-error:0.071429\u001b[0m\n",
            "\u001b[34m[10:26:05] src/tree/updater_prune.cc:74: tree pruning end, 1 roots, 0 extra nodes, 4 pruned nodes, max_depth=0\u001b[0m\n",
            "\u001b[34m[57]#011train-error:0.074176\u001b[0m\n",
            "\u001b[34m[10:26:05] src/tree/updater_prune.cc:74: tree pruning end, 1 roots, 0 extra nodes, 4 pruned nodes, max_depth=0\u001b[0m\n",
            "\u001b[34m[58]#011train-error:0.071429\u001b[0m\n",
            "\u001b[34m[10:26:05] src/tree/updater_prune.cc:74: tree pruning end, 1 roots, 0 extra nodes, 6 pruned nodes, max_depth=0\u001b[0m\n",
            "\u001b[34m[59]#011train-error:0.074176\u001b[0m\n",
            "\u001b[34m[10:26:05] src/tree/updater_prune.cc:74: tree pruning end, 1 roots, 4 extra nodes, 0 pruned nodes, max_depth=2\u001b[0m\n",
            "\u001b[34m[60]#011train-error:0.065934\u001b[0m\n",
            "\u001b[34m[10:26:05] src/tree/updater_prune.cc:74: tree pruning end, 1 roots, 0 extra nodes, 4 pruned nodes, max_depth=0\u001b[0m\n",
            "\u001b[34m[61]#011train-error:0.057692\u001b[0m\n",
            "\u001b[34m[10:26:05] src/tree/updater_prune.cc:74: tree pruning end, 1 roots, 4 extra nodes, 0 pruned nodes, max_depth=2\u001b[0m\n",
            "\u001b[34m[62]#011train-error:0.06044\u001b[0m\n",
            "\u001b[34m[10:26:05] src/tree/updater_prune.cc:74: tree pruning end, 1 roots, 0 extra nodes, 4 pruned nodes, max_depth=0\u001b[0m\n",
            "\u001b[34m[63]#011train-error:0.06044\u001b[0m\n",
            "\u001b[34m[10:26:05] src/tree/updater_prune.cc:74: tree pruning end, 1 roots, 0 extra nodes, 4 pruned nodes, max_depth=0\u001b[0m\n",
            "\u001b[34m[64]#011train-error:0.06044\u001b[0m\n",
            "\u001b[34m[10:26:05] src/tree/updater_prune.cc:74: tree pruning end, 1 roots, 0 extra nodes, 4 pruned nodes, max_depth=0\u001b[0m\n",
            "\u001b[34m[65]#011train-error:0.06044\u001b[0m\n",
            "\u001b[34m[10:26:05] src/tree/updater_prune.cc:74: tree pruning end, 1 roots, 0 extra nodes, 4 pruned nodes, max_depth=0\u001b[0m\n",
            "\u001b[34m[66]#011train-error:0.06044\u001b[0m\n",
            "\u001b[34m[10:26:05] src/tree/updater_prune.cc:74: tree pruning end, 1 roots, 0 extra nodes, 4 pruned nodes, max_depth=0\u001b[0m\n",
            "\u001b[34m[67]#011train-error:0.06044\u001b[0m\n",
            "\u001b[34m[10:26:05] src/tree/updater_prune.cc:74: tree pruning end, 1 roots, 0 extra nodes, 4 pruned nodes, max_depth=0\u001b[0m\n",
            "\u001b[34m[68]#011train-error:0.06044\u001b[0m\n",
            "\u001b[34m[10:26:05] src/tree/updater_prune.cc:74: tree pruning end, 1 roots, 2 extra nodes, 2 pruned nodes, max_depth=1\u001b[0m\n",
            "\u001b[34m[69]#011train-error:0.06044\u001b[0m\n",
            "\u001b[34m[10:26:05] src/tree/updater_prune.cc:74: tree pruning end, 1 roots, 0 extra nodes, 4 pruned nodes, max_depth=0\u001b[0m\n",
            "\u001b[34m[70]#011train-error:0.06044\u001b[0m\n",
            "\u001b[34m[10:26:05] src/tree/updater_prune.cc:74: tree pruning end, 1 roots, 0 extra nodes, 4 pruned nodes, max_depth=0\u001b[0m\n",
            "\u001b[34m[71]#011train-error:0.06044\u001b[0m\n",
            "\u001b[34m[10:26:05] src/tree/updater_prune.cc:74: tree pruning end, 1 roots, 0 extra nodes, 6 pruned nodes, max_depth=0\u001b[0m\n",
            "\u001b[34m[72]#011train-error:0.06044\u001b[0m\n",
            "\u001b[34m[10:26:05] src/tree/updater_prune.cc:74: tree pruning end, 1 roots, 4 extra nodes, 0 pruned nodes, max_depth=2\u001b[0m\n",
            "\u001b[34m[73]#011train-error:0.057692\u001b[0m\n",
            "\u001b[34m[10:26:05] src/tree/updater_prune.cc:74: tree pruning end, 1 roots, 0 extra nodes, 4 pruned nodes, max_depth=0\u001b[0m\n",
            "\u001b[34m[74]#011train-error:0.057692\u001b[0m\n",
            "\u001b[34m[10:26:05] src/tree/updater_prune.cc:74: tree pruning end, 1 roots, 0 extra nodes, 4 pruned nodes, max_depth=0\u001b[0m\n",
            "\u001b[34m[75]#011train-error:0.057692\u001b[0m\n",
            "\u001b[34m[10:26:05] src/tree/updater_prune.cc:74: tree pruning end, 1 roots, 0 extra nodes, 4 pruned nodes, max_depth=0\u001b[0m\n",
            "\u001b[34m[76]#011train-error:0.057692\u001b[0m\n",
            "\u001b[34m[10:26:05] src/tree/updater_prune.cc:74: tree pruning end, 1 roots, 0 extra nodes, 4 pruned nodes, max_depth=0\u001b[0m\n",
            "\u001b[34m[77]#011train-error:0.057692\u001b[0m\n",
            "\u001b[34m[10:26:05] src/tree/updater_prune.cc:74: tree pruning end, 1 roots, 0 extra nodes, 4 pruned nodes, max_depth=0\u001b[0m\n",
            "\u001b[34m[78]#011train-error:0.06044\u001b[0m\n",
            "\u001b[34m[10:26:05] src/tree/updater_prune.cc:74: tree pruning end, 1 roots, 0 extra nodes, 4 pruned nodes, max_depth=0\u001b[0m\n",
            "\u001b[34m[79]#011train-error:0.06044\u001b[0m\n",
            "\u001b[34m[10:26:05] src/tree/updater_prune.cc:74: tree pruning end, 1 roots, 0 extra nodes, 6 pruned nodes, max_depth=0\u001b[0m\n",
            "\u001b[34m[80]#011train-error:0.06044\u001b[0m\n",
            "\u001b[34m[10:26:05] src/tree/updater_prune.cc:74: tree pruning end, 1 roots, 0 extra nodes, 4 pruned nodes, max_depth=0\u001b[0m\n",
            "\u001b[34m[81]#011train-error:0.06044\u001b[0m\n",
            "\u001b[34m[10:26:05] src/tree/updater_prune.cc:74: tree pruning end, 1 roots, 0 extra nodes, 4 pruned nodes, max_depth=0\u001b[0m\n",
            "\u001b[34m[82]#011train-error:0.06044\u001b[0m\n",
            "\u001b[34m[10:26:05] src/tree/updater_prune.cc:74: tree pruning end, 1 roots, 0 extra nodes, 4 pruned nodes, max_depth=0\u001b[0m\n",
            "\u001b[34m[83]#011train-error:0.052198\u001b[0m\n",
            "\u001b[34m[10:26:05] src/tree/updater_prune.cc:74: tree pruning end, 1 roots, 0 extra nodes, 4 pruned nodes, max_depth=0\u001b[0m\n",
            "\u001b[34m[84]#011train-error:0.06044\u001b[0m\n",
            "\u001b[34m[10:26:05] src/tree/updater_prune.cc:74: tree pruning end, 1 roots, 0 extra nodes, 4 pruned nodes, max_depth=0\u001b[0m\n",
            "\u001b[34m[85]#011train-error:0.06044\u001b[0m\n",
            "\u001b[34m[10:26:05] src/tree/updater_prune.cc:74: tree pruning end, 1 roots, 0 extra nodes, 6 pruned nodes, max_depth=0\u001b[0m\n",
            "\u001b[34m[86]#011train-error:0.06044\u001b[0m\n",
            "\u001b[34m[10:26:05] src/tree/updater_prune.cc:74: tree pruning end, 1 roots, 0 extra nodes, 4 pruned nodes, max_depth=0\u001b[0m\n",
            "\u001b[34m[87]#011train-error:0.06044\u001b[0m\n",
            "\u001b[34m[10:26:05] src/tree/updater_prune.cc:74: tree pruning end, 1 roots, 0 extra nodes, 4 pruned nodes, max_depth=0\u001b[0m\n",
            "\u001b[34m[88]#011train-error:0.06044\u001b[0m\n",
            "\u001b[34m[10:26:05] src/tree/updater_prune.cc:74: tree pruning end, 1 roots, 0 extra nodes, 4 pruned nodes, max_depth=0\u001b[0m\n",
            "\u001b[34m[89]#011train-error:0.06044\u001b[0m\n",
            "\u001b[34m[10:26:05] src/tree/updater_prune.cc:74: tree pruning end, 1 roots, 0 extra nodes, 4 pruned nodes, max_depth=0\u001b[0m\n",
            "\u001b[34m[90]#011train-error:0.06044\u001b[0m\n",
            "\u001b[34m[10:26:05] src/tree/updater_prune.cc:74: tree pruning end, 1 roots, 0 extra nodes, 6 pruned nodes, max_depth=0\u001b[0m\n",
            "\u001b[34m[91]#011train-error:0.06044\u001b[0m\n",
            "\u001b[34m[10:26:05] src/tree/updater_prune.cc:74: tree pruning end, 1 roots, 0 extra nodes, 4 pruned nodes, max_depth=0\u001b[0m\n",
            "\u001b[34m[92]#011train-error:0.06044\u001b[0m\n",
            "\u001b[34m[10:26:05] src/tree/updater_prune.cc:74: tree pruning end, 1 roots, 0 extra nodes, 4 pruned nodes, max_depth=0\u001b[0m\n",
            "\u001b[34m[93]#011train-error:0.06044\u001b[0m\n",
            "\u001b[34m[10:26:05] src/tree/updater_prune.cc:74: tree pruning end, 1 roots, 0 extra nodes, 4 pruned nodes, max_depth=0\u001b[0m\n",
            "\u001b[34m[94]#011train-error:0.06044\u001b[0m\n",
            "\u001b[34m[10:26:05] src/tree/updater_prune.cc:74: tree pruning end, 1 roots, 0 extra nodes, 4 pruned nodes, max_depth=0\u001b[0m\n",
            "\u001b[34m[95]#011train-error:0.06044\u001b[0m\n",
            "\u001b[34m[10:26:05] src/tree/updater_prune.cc:74: tree pruning end, 1 roots, 0 extra nodes, 4 pruned nodes, max_depth=0\u001b[0m\n",
            "\u001b[34m[96]#011train-error:0.06044\u001b[0m\n",
            "\u001b[34m[10:26:05] src/tree/updater_prune.cc:74: tree pruning end, 1 roots, 0 extra nodes, 4 pruned nodes, max_depth=0\u001b[0m\n",
            "\u001b[34m[97]#011train-error:0.06044\u001b[0m\n",
            "\u001b[34m[10:26:05] src/tree/updater_prune.cc:74: tree pruning end, 1 roots, 0 extra nodes, 4 pruned nodes, max_depth=0\u001b[0m\n",
            "\u001b[34m[98]#011train-error:0.06044\u001b[0m\n",
            "\u001b[34m[10:26:05] src/tree/updater_prune.cc:74: tree pruning end, 1 roots, 0 extra nodes, 4 pruned nodes, max_depth=0\u001b[0m\n",
            "\u001b[34m[99]#011train-error:0.06044\u001b[0m\n",
            "\n",
            "2022-11-21 10:26:27 Uploading - Uploading generated training model\n",
            "2022-11-21 10:26:27 Completed - Training job completed\n",
            "Training seconds: 72\n",
            "Billable seconds: 72\n"
          ]
        }
      ],
      "source": [
        "xgb.fit({'train': s3_input_train})"
      ]
    },
    {
      "cell_type": "markdown",
      "id": "1d6cf075",
      "metadata": {
        "id": "1d6cf075"
      },
      "source": [
        "# 6.0 Deployment"
      ]
    },
    {
      "cell_type": "code",
      "execution_count": null,
      "id": "91e18888",
      "metadata": {
        "id": "91e18888",
        "outputId": "1ae83cf6-b0ae-4cda-dab8-2ce6e57a1233"
      },
      "outputs": [
        {
          "name": "stdout",
          "output_type": "stream",
          "text": [
            "------!"
          ]
        }
      ],
      "source": [
        "xgb_predictor = xgb.deploy(initial_instance_count=1,instance_type='ml.m4.xlarge')"
      ]
    },
    {
      "cell_type": "code",
      "execution_count": null,
      "id": "d812ad4e",
      "metadata": {
        "id": "d812ad4e",
        "outputId": "b34d5499-5590-47be-c618-63be6c660053"
      },
      "outputs": [
        {
          "name": "stdout",
          "output_type": "stream",
          "text": [
            "(156,)\n"
          ]
        }
      ],
      "source": [
        "from sagemaker.serializers import CSVSerializer\n",
        "\n",
        "test_data_array = test_data.drop(['class_Positive'], axis=1).values #load the data into an array\n",
        "xgb_predictor.serializer = CSVSerializer() # set the serializer type\n",
        "predictions = xgb_predictor.predict(test_data_array).decode('utf-8') # predict!\n",
        "predictions_array = np.fromstring(predictions[1:], sep=',') # and turn the prediction into an array\n",
        "print(predictions_array.shape)"
      ]
    },
    {
      "cell_type": "markdown",
      "id": "6e9d128c",
      "metadata": {
        "id": "6e9d128c"
      },
      "source": [
        "# 7.0 Evaluation"
      ]
    },
    {
      "cell_type": "code",
      "execution_count": null,
      "id": "19e083a9",
      "metadata": {
        "id": "19e083a9",
        "outputId": "a9c31908-5d86-416a-8535-8e07765cd4c4"
      },
      "outputs": [
        {
          "name": "stdout",
          "output_type": "stream",
          "text": [
            "\n",
            "Overall Classification Accuracy: 94.2%\n",
            "\n",
            "Predicted      Negative       Positive\n",
            "Observed\n",
            "Negative       91% (50)     4% (4)\n",
            "Positive        9% (5)     96% (97) \n",
            "\n"
          ]
        }
      ],
      "source": [
        "cm = pd.crosstab(index=test_data['class_Positive'], columns=np.round(predictions_array), \n",
        "                 rownames=['Observed'], colnames=['Predicted'])\n",
        "tn = cm.iloc[0,0]; fn = cm.iloc[1,0]; \n",
        "tp = cm.iloc[1,1]; fp = cm.iloc[0,1]; \n",
        "\n",
        "p = (tp+tn)/(tp+tn+fp+fn)*100\n",
        "\n",
        "print(\"\\n{0:<20}{1:<4.1f}%\\n\".format(\"Overall Classification Accuracy: \", p))\n",
        "print(\"{0:<15}{1:<15}{2:>8}\".format(\"Predicted\", \"Negative\", \"Positive\"))\n",
        "print(\"Observed\")\n",
        "print(\"{0:<15}{1:<2.0f}% ({2:<}){3:>6.0f}% ({4:<})\".format(\"Negative\", tn/(tn+fn)*100,tn, fp/(tp+fp)*100, fp))\n",
        "print(\"{0:<16}{1:<1.0f}% ({2:<}){3:>7.0f}% ({4:<}) \\n\".format(\"Positive\", fn/(tn+fn)*100,fn, tp/(tp+fp)*100, tp))"
      ]
    },
    {
      "cell_type": "markdown",
      "id": "ea6f486b",
      "metadata": {
        "id": "ea6f486b"
      },
      "source": [
        "## Prediction for single patient"
      ]
    },
    {
      "cell_type": "code",
      "execution_count": null,
      "id": "0710f1f3",
      "metadata": {
        "id": "0710f1f3"
      },
      "outputs": [],
      "source": [
        "single_patient = [42, 1, 1, 1, 0, 0, 1, 0, 0, 1, 0, 1, 0, 1, 1, 0]"
      ]
    },
    {
      "cell_type": "code",
      "execution_count": null,
      "id": "8a0f4568",
      "metadata": {
        "id": "8a0f4568",
        "outputId": "2750f24a-3543-45ea-debf-9ffca8ead3b8"
      },
      "outputs": [
        {
          "name": "stdout",
          "output_type": "stream",
          "text": [
            "Patient has diabetes\n"
          ]
        }
      ],
      "source": [
        "sg_predictions = xgb_predictor.predict(single_patient)\n",
        "sg_predictions_array = np.round(np.fromstring(sg_predictions, sep=','))\n",
        "if sg_predictions_array == 1:\n",
        "    print('Patient has diabetes')\n",
        "else:\n",
        "    print('Patient does not have diabetes')"
      ]
    },
    {
      "cell_type": "markdown",
      "id": "a35c2127",
      "metadata": {
        "id": "a35c2127"
      },
      "source": [
        "# 8.0 Clean up"
      ]
    },
    {
      "cell_type": "code",
      "execution_count": null,
      "id": "9a18b696",
      "metadata": {
        "id": "9a18b696"
      },
      "outputs": [],
      "source": [
        "xgb_predictor.delete_endpoint(delete_endpoint_config=True)"
      ]
    },
    {
      "cell_type": "code",
      "execution_count": null,
      "id": "db8c8972",
      "metadata": {
        "id": "db8c8972"
      },
      "outputs": [],
      "source": [
        "bucket_to_delete = boto3.resource('s3').Bucket(bucket_name)\n",
        "bucket_to_delete.objects.all().delete()"
      ]
    },
    {
      "cell_type": "code",
      "execution_count": null,
      "id": "1fef45dd",
      "metadata": {
        "id": "1fef45dd"
      },
      "outputs": [],
      "source": []
    }
  ],
  "metadata": {
    "kernelspec": {
      "display_name": "conda_python3",
      "language": "python",
      "name": "conda_python3"
    },
    "language_info": {
      "codemirror_mode": {
        "name": "ipython",
        "version": 3
      },
      "file_extension": ".py",
      "mimetype": "text/x-python",
      "name": "python",
      "nbconvert_exporter": "python",
      "pygments_lexer": "ipython3",
      "version": "3.8.12"
    },
    "colab": {
      "provenance": [],
      "toc_visible": true
    }
  },
  "nbformat": 4,
  "nbformat_minor": 5
}